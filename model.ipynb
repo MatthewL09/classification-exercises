{
 "cells": [
  {
   "cell_type": "code",
   "execution_count": 105,
   "id": "a0713b5d",
   "metadata": {},
   "outputs": [],
   "source": [
    "import numpy as np\n",
    "import pandas as pd\n",
    "from pydataset import data\n",
    "\n",
    "%matplotlib inline\n",
    "import matplotlib.pyplot as plt\n",
    "import seaborn as sns\n",
    "import acquire\n",
    "import prepare\n",
    "\n",
    "\n",
    "from sklearn.tree import DecisionTreeClassifier, plot_tree, export_text\n",
    "\n",
    "from sklearn.ensemble import RandomForestClassifier\n",
    "\n",
    "from sklearn.metrics import accuracy_score, classification_report\n",
    "\n",
    "from sklearn.model_selection import train_test_split\n",
    "\n",
    "from sklearn.metrics import confusion_matrix"
   ]
  },
  {
   "cell_type": "code",
   "execution_count": 80,
   "id": "7888a923",
   "metadata": {},
   "outputs": [
    {
     "name": "stdout",
     "output_type": "stream",
     "text": [
      "Using cached csv\n"
     ]
    }
   ],
   "source": [
    "df = acquire.get_titanic_data()\n",
    "df = prepare.prep_titanic(df)"
   ]
  },
  {
   "cell_type": "code",
   "execution_count": 100,
   "id": "8b8f1710",
   "metadata": {},
   "outputs": [
    {
     "data": {
      "text/html": [
       "<div>\n",
       "<style scoped>\n",
       "    .dataframe tbody tr th:only-of-type {\n",
       "        vertical-align: middle;\n",
       "    }\n",
       "\n",
       "    .dataframe tbody tr th {\n",
       "        vertical-align: top;\n",
       "    }\n",
       "\n",
       "    .dataframe thead th {\n",
       "        text-align: right;\n",
       "    }\n",
       "</style>\n",
       "<table border=\"1\" class=\"dataframe\">\n",
       "  <thead>\n",
       "    <tr style=\"text-align: right;\">\n",
       "      <th></th>\n",
       "      <th>survived</th>\n",
       "      <th>pclass</th>\n",
       "      <th>sibsp</th>\n",
       "      <th>parch</th>\n",
       "      <th>fare</th>\n",
       "      <th>alone</th>\n",
       "      <th>sex_male</th>\n",
       "      <th>embark_town_Queenstown</th>\n",
       "      <th>embark_town_Southampton</th>\n",
       "    </tr>\n",
       "  </thead>\n",
       "  <tbody>\n",
       "    <tr>\n",
       "      <th>0</th>\n",
       "      <td>0</td>\n",
       "      <td>3</td>\n",
       "      <td>1</td>\n",
       "      <td>0</td>\n",
       "      <td>7.2500</td>\n",
       "      <td>0</td>\n",
       "      <td>1</td>\n",
       "      <td>0</td>\n",
       "      <td>1</td>\n",
       "    </tr>\n",
       "    <tr>\n",
       "      <th>1</th>\n",
       "      <td>1</td>\n",
       "      <td>1</td>\n",
       "      <td>1</td>\n",
       "      <td>0</td>\n",
       "      <td>71.2833</td>\n",
       "      <td>0</td>\n",
       "      <td>0</td>\n",
       "      <td>0</td>\n",
       "      <td>0</td>\n",
       "    </tr>\n",
       "    <tr>\n",
       "      <th>2</th>\n",
       "      <td>1</td>\n",
       "      <td>3</td>\n",
       "      <td>0</td>\n",
       "      <td>0</td>\n",
       "      <td>7.9250</td>\n",
       "      <td>1</td>\n",
       "      <td>0</td>\n",
       "      <td>0</td>\n",
       "      <td>1</td>\n",
       "    </tr>\n",
       "    <tr>\n",
       "      <th>3</th>\n",
       "      <td>1</td>\n",
       "      <td>1</td>\n",
       "      <td>1</td>\n",
       "      <td>0</td>\n",
       "      <td>53.1000</td>\n",
       "      <td>0</td>\n",
       "      <td>0</td>\n",
       "      <td>0</td>\n",
       "      <td>1</td>\n",
       "    </tr>\n",
       "    <tr>\n",
       "      <th>4</th>\n",
       "      <td>0</td>\n",
       "      <td>3</td>\n",
       "      <td>0</td>\n",
       "      <td>0</td>\n",
       "      <td>8.0500</td>\n",
       "      <td>1</td>\n",
       "      <td>1</td>\n",
       "      <td>0</td>\n",
       "      <td>1</td>\n",
       "    </tr>\n",
       "  </tbody>\n",
       "</table>\n",
       "</div>"
      ],
      "text/plain": [
       "   survived  pclass  sibsp  parch     fare  alone  sex_male  \\\n",
       "0         0       3      1      0   7.2500      0         1   \n",
       "1         1       1      1      0  71.2833      0         0   \n",
       "2         1       3      0      0   7.9250      1         0   \n",
       "3         1       1      1      0  53.1000      0         0   \n",
       "4         0       3      0      0   8.0500      1         1   \n",
       "\n",
       "   embark_town_Queenstown  embark_town_Southampton  \n",
       "0                       0                        1  \n",
       "1                       0                        0  \n",
       "2                       0                        1  \n",
       "3                       0                        1  \n",
       "4                       0                        1  "
      ]
     },
     "execution_count": 100,
     "metadata": {},
     "output_type": "execute_result"
    }
   ],
   "source": [
    "df= df.drop(columns = ['sex', 'embark_town'])\n",
    "df.head()"
   ]
  },
  {
   "cell_type": "code",
   "execution_count": 63,
   "id": "92f43173",
   "metadata": {},
   "outputs": [],
   "source": [
    "def train_validate_test_split(df, target, seed=123):\n",
    "    '''\n",
    "    This function takes in a dataframe, the name of the target variable\n",
    "    (for stratification purposes), and an integer for a setting a seed\n",
    "    and splits the data into train, validate and test. \n",
    "    Test is 20% of the original dataset, validate is .30*.80= 24% of the \n",
    "    original dataset, and train is .70*.80= 56% of the original dataset. \n",
    "    The function returns, in this order, train, validate and test dataframes. \n",
    "    '''\n",
    "    train_validate, test = train_test_split(df, test_size=0.2, \n",
    "                                            random_state=seed, \n",
    "                                            stratify=df[target])\n",
    "    train, validate = train_test_split(train_validate, test_size=0.3, \n",
    "                                       random_state=seed,\n",
    "                                       stratify=train_validate[target])\n",
    "    return train, validate, test"
   ]
  },
  {
   "cell_type": "code",
   "execution_count": 64,
   "id": "5208b83a",
   "metadata": {},
   "outputs": [],
   "source": [
    "train, validate, test = train_validate_test_split(df, target='survived', seed = 123)"
   ]
  },
  {
   "cell_type": "code",
   "execution_count": 65,
   "id": "2a47243f",
   "metadata": {},
   "outputs": [
    {
     "data": {
      "text/plain": [
       "(498, 9)"
      ]
     },
     "execution_count": 65,
     "metadata": {},
     "output_type": "execute_result"
    }
   ],
   "source": [
    "train.shape"
   ]
  },
  {
   "cell_type": "code",
   "execution_count": 66,
   "id": "e36d5198",
   "metadata": {},
   "outputs": [
    {
     "data": {
      "text/plain": [
       "(214, 9)"
      ]
     },
     "execution_count": 66,
     "metadata": {},
     "output_type": "execute_result"
    }
   ],
   "source": [
    "validate.shape"
   ]
  },
  {
   "cell_type": "code",
   "execution_count": 67,
   "id": "8b6409f4",
   "metadata": {},
   "outputs": [
    {
     "data": {
      "text/plain": [
       "(179, 9)"
      ]
     },
     "execution_count": 67,
     "metadata": {},
     "output_type": "execute_result"
    }
   ],
   "source": [
    "test.shape"
   ]
  },
  {
   "cell_type": "code",
   "execution_count": 68,
   "id": "f366fbbc",
   "metadata": {},
   "outputs": [],
   "source": [
    "# create X & y version of train, where y is a series with just the target variable and X are all the features. \n",
    "\n",
    "X_train = train.drop(columns=['survived'])\n",
    "y_train = train.survived\n",
    "\n",
    "X_validate = validate.drop(columns=['survived'])\n",
    "y_validate = validate.survived\n",
    "\n",
    "X_test = test.drop(columns=['survived'])\n",
    "y_test = test.survived"
   ]
  },
  {
   "cell_type": "code",
   "execution_count": 69,
   "id": "e973a9af",
   "metadata": {},
   "outputs": [
    {
     "data": {
      "text/plain": [
       "(498, 8)"
      ]
     },
     "execution_count": 69,
     "metadata": {},
     "output_type": "execute_result"
    }
   ],
   "source": [
    "X_train.shape"
   ]
  },
  {
   "cell_type": "code",
   "execution_count": 97,
   "id": "a4703357",
   "metadata": {},
   "outputs": [
    {
     "data": {
      "text/plain": [
       "0    307\n",
       "1    191\n",
       "Name: survived, dtype: int64"
      ]
     },
     "execution_count": 97,
     "metadata": {},
     "output_type": "execute_result"
    }
   ],
   "source": [
    "y_train.value_counts()"
   ]
  },
  {
   "cell_type": "markdown",
   "id": "723f7f6c",
   "metadata": {},
   "source": [
    "## QUESTION 1 = BASELINE"
   ]
  },
  {
   "cell_type": "code",
   "execution_count": 99,
   "id": "51ed548e",
   "metadata": {},
   "outputs": [
    {
     "name": "stdout",
     "output_type": "stream",
     "text": [
      "Baseline accuracy: 0.62\n"
     ]
    }
   ],
   "source": [
    "# The mode(MOST OCCURING) is a great baseline\n",
    "baseline = y_train.mode()\n",
    "\n",
    "# Produce a boolean array with True representing a match between the baseline prediction and reality\n",
    "matches_baseline_prediction = (y_train == 0)\n",
    "\n",
    "baseline_accuracy = matches_baseline_prediction.mean()\n",
    "print(f\"Baseline accuracy: {round(baseline_accuracy, 2)}\")"
   ]
  },
  {
   "cell_type": "markdown",
   "id": "63b0e7ce",
   "metadata": {},
   "source": [
    "## QUESTION 2: FIT - TRANSFORMATION"
   ]
  },
  {
   "cell_type": "code",
   "execution_count": 114,
   "id": "5b3bf758",
   "metadata": {},
   "outputs": [],
   "source": [
    "# make the model\n",
    "\n",
    "tree1 = DecisionTreeClassifier(max_depth=1, random_state=123)\n",
    "\n",
    "# Fit the model (on train and only train)\n",
    "tree1 = tree1.fit(X_train, y_train)\n",
    "\n",
    "# Use the model\n",
    "# We'll evaluate the model's performance on train, first\n",
    "y_predictions = tree1.predict(X_train)\n"
   ]
  },
  {
   "cell_type": "markdown",
   "id": "ed235ca7",
   "metadata": {},
   "source": [
    "## QUESTION 3: EVALUATE PERFORMANCE"
   ]
  },
  {
   "cell_type": "code",
   "execution_count": 102,
   "id": "0db3d58a",
   "metadata": {},
   "outputs": [
    {
     "name": "stdout",
     "output_type": "stream",
     "text": [
      "Accuracy of Decision Tree classifier on training set: 0.80\n"
     ]
    }
   ],
   "source": [
    "print('Accuracy of Decision Tree classifier on training set: {:.2f}'\n",
    "      .format(tree1.score(X_train, y_train)))"
   ]
  },
  {
   "cell_type": "code",
   "execution_count": 106,
   "id": "68258280",
   "metadata": {},
   "outputs": [
    {
     "data": {
      "text/html": [
       "<div>\n",
       "<style scoped>\n",
       "    .dataframe tbody tr th:only-of-type {\n",
       "        vertical-align: middle;\n",
       "    }\n",
       "\n",
       "    .dataframe tbody tr th {\n",
       "        vertical-align: top;\n",
       "    }\n",
       "\n",
       "    .dataframe thead th {\n",
       "        text-align: right;\n",
       "    }\n",
       "</style>\n",
       "<table border=\"1\" class=\"dataframe\">\n",
       "  <thead>\n",
       "    <tr style=\"text-align: right;\">\n",
       "      <th></th>\n",
       "      <th>0</th>\n",
       "      <th>1</th>\n",
       "    </tr>\n",
       "  </thead>\n",
       "  <tbody>\n",
       "    <tr>\n",
       "      <th>0</th>\n",
       "      <td>265</td>\n",
       "      <td>42</td>\n",
       "    </tr>\n",
       "    <tr>\n",
       "      <th>1</th>\n",
       "      <td>58</td>\n",
       "      <td>133</td>\n",
       "    </tr>\n",
       "  </tbody>\n",
       "</table>\n",
       "</div>"
      ],
      "text/plain": [
       "     0    1\n",
       "0  265   42\n",
       "1   58  133"
      ]
     },
     "execution_count": 106,
     "metadata": {},
     "output_type": "execute_result"
    }
   ],
   "source": [
    "# confusion matrix - actual on left predicted on top\n",
    "pd.DataFrame(confusion_matrix(y_train, y_predictions))"
   ]
  },
  {
   "cell_type": "code",
   "execution_count": 107,
   "id": "47181b97",
   "metadata": {},
   "outputs": [
    {
     "name": "stdout",
     "output_type": "stream",
     "text": [
      "              precision    recall  f1-score   support\n",
      "\n",
      "           0       0.82      0.86      0.84       307\n",
      "           1       0.76      0.70      0.73       191\n",
      "\n",
      "    accuracy                           0.80       498\n",
      "   macro avg       0.79      0.78      0.78       498\n",
      "weighted avg       0.80      0.80      0.80       498\n",
      "\n"
     ]
    }
   ],
   "source": [
    "# create classification report\n",
    "print(classification_report(y_train, y_predictions))"
   ]
  },
  {
   "cell_type": "code",
   "execution_count": 108,
   "id": "a35827f7",
   "metadata": {},
   "outputs": [
    {
     "name": "stdout",
     "output_type": "stream",
     "text": [
      "Tree of 1 depth\n"
     ]
    },
    {
     "data": {
      "text/html": [
       "<div>\n",
       "<style scoped>\n",
       "    .dataframe tbody tr th:only-of-type {\n",
       "        vertical-align: middle;\n",
       "    }\n",
       "\n",
       "    .dataframe tbody tr th {\n",
       "        vertical-align: top;\n",
       "    }\n",
       "\n",
       "    .dataframe thead th {\n",
       "        text-align: right;\n",
       "    }\n",
       "</style>\n",
       "<table border=\"1\" class=\"dataframe\">\n",
       "  <thead>\n",
       "    <tr style=\"text-align: right;\">\n",
       "      <th></th>\n",
       "      <th>0</th>\n",
       "      <th>1</th>\n",
       "      <th>accuracy</th>\n",
       "      <th>macro avg</th>\n",
       "      <th>weighted avg</th>\n",
       "    </tr>\n",
       "  </thead>\n",
       "  <tbody>\n",
       "    <tr>\n",
       "      <th>precision</th>\n",
       "      <td>0.820433</td>\n",
       "      <td>0.760000</td>\n",
       "      <td>0.799197</td>\n",
       "      <td>0.790217</td>\n",
       "      <td>0.797255</td>\n",
       "    </tr>\n",
       "    <tr>\n",
       "      <th>recall</th>\n",
       "      <td>0.863192</td>\n",
       "      <td>0.696335</td>\n",
       "      <td>0.799197</td>\n",
       "      <td>0.779764</td>\n",
       "      <td>0.799197</td>\n",
       "    </tr>\n",
       "    <tr>\n",
       "      <th>f1-score</th>\n",
       "      <td>0.841270</td>\n",
       "      <td>0.726776</td>\n",
       "      <td>0.799197</td>\n",
       "      <td>0.784023</td>\n",
       "      <td>0.797358</td>\n",
       "    </tr>\n",
       "    <tr>\n",
       "      <th>support</th>\n",
       "      <td>307.000000</td>\n",
       "      <td>191.000000</td>\n",
       "      <td>0.799197</td>\n",
       "      <td>498.000000</td>\n",
       "      <td>498.000000</td>\n",
       "    </tr>\n",
       "  </tbody>\n",
       "</table>\n",
       "</div>"
      ],
      "text/plain": [
       "                    0           1  accuracy   macro avg  weighted avg\n",
       "precision    0.820433    0.760000  0.799197    0.790217      0.797255\n",
       "recall       0.863192    0.696335  0.799197    0.779764      0.799197\n",
       "f1-score     0.841270    0.726776  0.799197    0.784023      0.797358\n",
       "support    307.000000  191.000000  0.799197  498.000000    498.000000"
      ]
     },
     "execution_count": 108,
     "metadata": {},
     "output_type": "execute_result"
    }
   ],
   "source": [
    "# Produce the classification report on the actual y values and this model's predicted\n",
    "\n",
    "report = classification_report(y_train, y_predictions, output_dict = True)\n",
    "print(\"Tree of 1 depth\")\n",
    "pd.DataFrame(report)"
   ]
  },
  {
   "cell_type": "markdown",
   "id": "cbd070d4",
   "metadata": {},
   "source": [
    "## QUESTION 4: EXTRA RE-CALCULATED METRICS"
   ]
  },
  {
   "cell_type": "code",
   "execution_count": 134,
   "id": "070485a8",
   "metadata": {},
   "outputs": [
    {
     "name": "stdout",
     "output_type": "stream",
     "text": [
      "Accuracy: 0.7991967871485943\n",
      "True Positive Rate: 0.6658291457286433\n",
      "False Positive Rate: 0.3036649214659686\n",
      "True Negative Rate: 0.6963350785340314\n",
      "False Negative Rate: 0.13680781758957655\n",
      "Precision: 0.8204334365325078\n",
      "Recall: 0.8631921824104235\n",
      "F1 Score: 0.8412698412698413\n",
      "Support (0): 307\n",
      "Support (1): 191\n"
     ]
    }
   ],
   "source": [
    "# NOT SURVIVED IS OUR POSITIVE CASE '0'\n",
    "\n",
    "TP = 265\n",
    "FP = 58\n",
    "FN = 42\n",
    "TN = 133\n",
    "ALL = TP + FP + FN + TN\n",
    "\n",
    "accuracy = (TP + TN) / ALL\n",
    "print(f'Accuracy: {accuracy}')\n",
    "\n",
    "true_positive_rate = TP/(TP + TN)\n",
    "print(f'True Positive Rate: {true_positive_rate}')\n",
    "\n",
    "false_positive_rate = FP/(FP+TN)\n",
    "print(f\"False Positive Rate: {false_positive_rate}\")\n",
    "\n",
    "true_negative_rate = TN/(TN+FP)\n",
    "print(f\"True Negative Rate: {true_negative_rate}\")\n",
    "\n",
    "false_negative_rate = FN/(FN+TP)\n",
    "print(f\"False Negative Rate: {false_negative_rate}\")\n",
    "\n",
    "precision = TP/(TP+FP)\n",
    "print(f\"Precision: {precision}\")\n",
    "\n",
    "recall = TP/(TP+FN)\n",
    "print(f\"Recall: {recall}\")\n",
    "\n",
    "f1_score = 2*(precision*recall)/(precision+recall)\n",
    "print(f\"F1 Score: {f1_score}\")\n",
    "\n",
    "support_pos = TP + FN\n",
    "print(f\"Support (0): {support_pos}\")\n",
    "\n",
    "support_neg = FP + TN\n",
    "print(f\"Support (1): {support_neg}\")\n"
   ]
  },
  {
   "cell_type": "markdown",
   "id": "13a8de9d",
   "metadata": {},
   "source": [
    "## QUESTION 5: FINDING OPTIMAL MAX_DEPTH"
   ]
  },
  {
   "cell_type": "code",
   "execution_count": 136,
   "id": "95b52224",
   "metadata": {},
   "outputs": [
    {
     "name": "stdout",
     "output_type": "stream",
     "text": [
      "Tree of 2 depth\n",
      "                    0           1  accuracy   macro avg  weighted avg\n",
      "precision    0.820433    0.760000  0.799197    0.790217      0.797255\n",
      "recall       0.863192    0.696335  0.799197    0.779764      0.799197\n",
      "f1-score     0.841270    0.726776  0.799197    0.784023      0.797358\n",
      "support    307.000000  191.000000  0.799197  498.000000    498.000000\n",
      "\n",
      "Tree of 3 depth\n",
      "                    0           1  accuracy   macro avg  weighted avg\n",
      "precision    0.828829    0.812121  0.823293    0.820475      0.822421\n",
      "recall       0.899023    0.701571  0.823293    0.800297      0.823293\n",
      "f1-score     0.862500    0.752809  0.823293    0.807654      0.820430\n",
      "support    307.000000  191.000000  0.823293  498.000000    498.000000\n",
      "\n",
      "Tree of 4 depth\n",
      "                    0           1  accuracy   macro avg  weighted avg\n",
      "precision    0.829341    0.817073  0.825301    0.823207      0.824636\n",
      "recall       0.902280    0.701571  0.825301    0.801925      0.825301\n",
      "f1-score     0.864275    0.754930  0.825301    0.809602      0.822337\n",
      "support    307.000000  191.000000  0.825301  498.000000    498.000000\n",
      "\n",
      "Tree of 5 depth\n",
      "                    0           1  accuracy   macro avg  weighted avg\n",
      "precision    0.797368    0.966102  0.837349    0.881735      0.862083\n",
      "recall       0.986971    0.596859  0.837349    0.791915      0.837349\n",
      "f1-score     0.882096    0.737864  0.837349    0.809980      0.826778\n",
      "support    307.000000  191.000000  0.837349  498.000000    498.000000\n",
      "\n",
      "Tree of 6 depth\n",
      "                    0           1  accuracy   macro avg  weighted avg\n",
      "precision    0.830084    0.935252  0.859438    0.882668      0.870419\n",
      "recall       0.970684    0.680628  0.859438    0.825656      0.859438\n",
      "f1-score     0.894895    0.787879  0.859438    0.841387      0.853851\n",
      "support    307.000000  191.000000  0.859438  498.000000    498.000000\n",
      "\n",
      "Tree of 7 depth\n",
      "                    0           1  accuracy   macro avg  weighted avg\n",
      "precision    0.831025    0.948905  0.863454    0.889965      0.876236\n",
      "recall       0.977199    0.680628  0.863454    0.828913      0.863454\n",
      "f1-score     0.898204    0.792683  0.863454    0.845443      0.857733\n",
      "support    307.000000  191.000000  0.863454  498.000000    498.000000\n",
      "\n",
      "Tree of 8 depth\n",
      "                    0           1  accuracy   macro avg  weighted avg\n",
      "precision    0.872093    0.954545   0.89759    0.913319      0.903716\n",
      "recall       0.977199    0.769634   0.89759    0.873416      0.897590\n",
      "f1-score     0.921659    0.852174   0.89759    0.886916      0.895009\n",
      "support    307.000000  191.000000   0.89759  498.000000    498.000000\n",
      "\n",
      "Tree of 9 depth\n",
      "                    0           1  accuracy   macro avg  weighted avg\n",
      "precision    0.892216    0.945122  0.909639    0.918669      0.912507\n",
      "recall       0.970684    0.811518  0.909639    0.891101      0.909639\n",
      "f1-score     0.929797    0.873239  0.909639    0.901518      0.908105\n",
      "support    307.000000  191.000000  0.909639  498.000000    498.000000\n",
      "\n",
      "Tree of 10 depth\n",
      "                    0           1  accuracy   macro avg  weighted avg\n",
      "precision    0.899110    0.975155  0.923695    0.937133      0.928276\n",
      "recall       0.986971    0.821990  0.923695    0.904480      0.923695\n",
      "f1-score     0.940994    0.892045  0.923695    0.916520      0.922220\n",
      "support    307.000000  191.000000  0.923695  498.000000    498.000000\n",
      "\n",
      "Tree of 11 depth\n",
      "                    0           1  accuracy   macro avg  weighted avg\n",
      "precision    0.905045    0.987578  0.931727    0.946311      0.936699\n",
      "recall       0.993485    0.832461  0.931727    0.912973      0.931727\n",
      "f1-score     0.947205    0.903409  0.931727    0.925307      0.930408\n",
      "support    307.000000  191.000000  0.931727  498.000000    498.000000\n",
      "\n",
      "Tree of 12 depth\n",
      "                    0           1  accuracy   macro avg  weighted avg\n",
      "precision    0.926380    0.970930  0.941767    0.948655      0.943467\n",
      "recall       0.983713    0.874346  0.941767    0.929029      0.941767\n",
      "f1-score     0.954186    0.920110  0.941767    0.937148      0.941117\n",
      "support    307.000000  191.000000  0.941767  498.000000    498.000000\n",
      "\n",
      "Tree of 13 depth\n",
      "                    0           1  accuracy   macro avg  weighted avg\n",
      "precision    0.924012    0.982249  0.943775    0.953130      0.946348\n",
      "recall       0.990228    0.869110  0.943775    0.929669      0.943775\n",
      "f1-score     0.955975    0.922222  0.943775    0.939099      0.943030\n",
      "support    307.000000  191.000000  0.943775  498.000000    498.000000\n",
      "\n",
      "Tree of 14 depth\n",
      "                    0           1  accuracy   macro avg  weighted avg\n",
      "precision    0.924012    0.982249  0.943775    0.953130      0.946348\n",
      "recall       0.990228    0.869110  0.943775    0.929669      0.943775\n",
      "f1-score     0.955975    0.922222  0.943775    0.939099      0.943030\n",
      "support    307.000000  191.000000  0.943775  498.000000    498.000000\n",
      "\n",
      "Tree of 15 depth\n",
      "                    0           1  accuracy   macro avg  weighted avg\n",
      "precision    0.924242    0.988095  0.945783    0.956169      0.948732\n",
      "recall       0.993485    0.869110  0.945783    0.931298      0.945783\n",
      "f1-score     0.957614    0.924791  0.945783    0.941202      0.945025\n",
      "support    307.000000  191.000000  0.945783  498.000000    498.000000\n",
      "\n",
      "Tree of 16 depth\n",
      "                    0           1  accuracy   macro avg  weighted avg\n",
      "precision    0.924242    0.988095  0.945783    0.956169      0.948732\n",
      "recall       0.993485    0.869110  0.945783    0.931298      0.945783\n",
      "f1-score     0.957614    0.924791  0.945783    0.941202      0.945025\n",
      "support    307.000000  191.000000  0.945783  498.000000    498.000000\n",
      "\n",
      "Tree of 17 depth\n",
      "                    0           1  accuracy   macro avg  weighted avg\n",
      "precision    0.924242    0.988095  0.945783    0.956169      0.948732\n",
      "recall       0.993485    0.869110  0.945783    0.931298      0.945783\n",
      "f1-score     0.957614    0.924791  0.945783    0.941202      0.945025\n",
      "support    307.000000  191.000000  0.945783  498.000000    498.000000\n",
      "\n",
      "Tree of 18 depth\n",
      "                    0           1  accuracy   macro avg  weighted avg\n",
      "precision    0.924242    0.988095  0.945783    0.956169      0.948732\n",
      "recall       0.993485    0.869110  0.945783    0.931298      0.945783\n",
      "f1-score     0.957614    0.924791  0.945783    0.941202      0.945025\n",
      "support    307.000000  191.000000  0.945783  498.000000    498.000000\n",
      "\n",
      "Tree of 19 depth\n",
      "                    0           1  accuracy   macro avg  weighted avg\n",
      "precision    0.924242    0.988095  0.945783    0.956169      0.948732\n",
      "recall       0.993485    0.869110  0.945783    0.931298      0.945783\n",
      "f1-score     0.957614    0.924791  0.945783    0.941202      0.945025\n",
      "support    307.000000  191.000000  0.945783  498.000000    498.000000\n",
      "\n",
      "Tree of 20 depth\n",
      "                    0           1  accuracy   macro avg  weighted avg\n",
      "precision    0.924242    0.988095  0.945783    0.956169      0.948732\n",
      "recall       0.993485    0.869110  0.945783    0.931298      0.945783\n",
      "f1-score     0.957614    0.924791  0.945783    0.941202      0.945025\n",
      "support    307.000000  191.000000  0.945783  498.000000    498.000000\n",
      "\n"
     ]
    }
   ],
   "source": [
    "for i in range (2,21):\n",
    "    # Make the model\n",
    "    tree = DecisionTreeClassifier (max_depth = i, random_state = 123)\n",
    "    \n",
    "    # Fit the model ( on train only)\n",
    "    tree = tree.fit(X_train, y_train)\n",
    "    \n",
    "    # Use the model\n",
    "    # We'll  evaluate the model's performance on train, first\n",
    "    y_predictions = tree.predict(X_train)\n",
    "    \n",
    "    # Produce the classification report on the actual y values and this model's predicted y values\n",
    "    report = classification_report(y_train, y_predictions, output_dict = True)\n",
    "    print(f'Tree of {i} depth')\n",
    "    print(pd.DataFrame(report))\n",
    "    print()"
   ]
  },
  {
   "cell_type": "markdown",
   "id": "ac29f38f",
   "metadata": {},
   "source": [
    "## QUESTIONS 6: FURTHER EVALUATION"
   ]
  },
  {
   "cell_type": "code",
   "execution_count": 123,
   "id": "89c32e3a",
   "metadata": {},
   "outputs": [],
   "source": [
    "# max depth of 14+ produced the highest accuracy"
   ]
  },
  {
   "cell_type": "code",
   "execution_count": 129,
   "id": "1cab0e54",
   "metadata": {},
   "outputs": [
    {
     "data": {
      "text/html": [
       "<div>\n",
       "<style scoped>\n",
       "    .dataframe tbody tr th:only-of-type {\n",
       "        vertical-align: middle;\n",
       "    }\n",
       "\n",
       "    .dataframe tbody tr th {\n",
       "        vertical-align: top;\n",
       "    }\n",
       "\n",
       "    .dataframe thead th {\n",
       "        text-align: right;\n",
       "    }\n",
       "</style>\n",
       "<table border=\"1\" class=\"dataframe\">\n",
       "  <thead>\n",
       "    <tr style=\"text-align: right;\">\n",
       "      <th></th>\n",
       "      <th>max_depth</th>\n",
       "      <th>train_accuracy</th>\n",
       "      <th>validate_accuracy</th>\n",
       "      <th>difference</th>\n",
       "    </tr>\n",
       "  </thead>\n",
       "  <tbody>\n",
       "    <tr>\n",
       "      <th>0</th>\n",
       "      <td>2</td>\n",
       "      <td>0.799197</td>\n",
       "      <td>0.761682</td>\n",
       "      <td>0.037515</td>\n",
       "    </tr>\n",
       "    <tr>\n",
       "      <th>1</th>\n",
       "      <td>3</td>\n",
       "      <td>0.823293</td>\n",
       "      <td>0.785047</td>\n",
       "      <td>0.038246</td>\n",
       "    </tr>\n",
       "    <tr>\n",
       "      <th>2</th>\n",
       "      <td>4</td>\n",
       "      <td>0.825301</td>\n",
       "      <td>0.785047</td>\n",
       "      <td>0.040254</td>\n",
       "    </tr>\n",
       "    <tr>\n",
       "      <th>3</th>\n",
       "      <td>5</td>\n",
       "      <td>0.837349</td>\n",
       "      <td>0.757009</td>\n",
       "      <td>0.080340</td>\n",
       "    </tr>\n",
       "    <tr>\n",
       "      <th>4</th>\n",
       "      <td>6</td>\n",
       "      <td>0.859438</td>\n",
       "      <td>0.766355</td>\n",
       "      <td>0.093083</td>\n",
       "    </tr>\n",
       "    <tr>\n",
       "      <th>5</th>\n",
       "      <td>7</td>\n",
       "      <td>0.863454</td>\n",
       "      <td>0.761682</td>\n",
       "      <td>0.101772</td>\n",
       "    </tr>\n",
       "    <tr>\n",
       "      <th>6</th>\n",
       "      <td>8</td>\n",
       "      <td>0.897590</td>\n",
       "      <td>0.757009</td>\n",
       "      <td>0.140581</td>\n",
       "    </tr>\n",
       "    <tr>\n",
       "      <th>7</th>\n",
       "      <td>9</td>\n",
       "      <td>0.909639</td>\n",
       "      <td>0.761682</td>\n",
       "      <td>0.147956</td>\n",
       "    </tr>\n",
       "    <tr>\n",
       "      <th>8</th>\n",
       "      <td>10</td>\n",
       "      <td>0.923695</td>\n",
       "      <td>0.766355</td>\n",
       "      <td>0.157340</td>\n",
       "    </tr>\n",
       "    <tr>\n",
       "      <th>9</th>\n",
       "      <td>11</td>\n",
       "      <td>0.931727</td>\n",
       "      <td>0.761682</td>\n",
       "      <td>0.170045</td>\n",
       "    </tr>\n",
       "    <tr>\n",
       "      <th>10</th>\n",
       "      <td>12</td>\n",
       "      <td>0.941767</td>\n",
       "      <td>0.747664</td>\n",
       "      <td>0.194104</td>\n",
       "    </tr>\n",
       "    <tr>\n",
       "      <th>11</th>\n",
       "      <td>13</td>\n",
       "      <td>0.943775</td>\n",
       "      <td>0.757009</td>\n",
       "      <td>0.186766</td>\n",
       "    </tr>\n",
       "    <tr>\n",
       "      <th>12</th>\n",
       "      <td>14</td>\n",
       "      <td>0.943775</td>\n",
       "      <td>0.757009</td>\n",
       "      <td>0.186766</td>\n",
       "    </tr>\n",
       "    <tr>\n",
       "      <th>13</th>\n",
       "      <td>15</td>\n",
       "      <td>0.945783</td>\n",
       "      <td>0.747664</td>\n",
       "      <td>0.198120</td>\n",
       "    </tr>\n",
       "    <tr>\n",
       "      <th>14</th>\n",
       "      <td>16</td>\n",
       "      <td>0.945783</td>\n",
       "      <td>0.747664</td>\n",
       "      <td>0.198120</td>\n",
       "    </tr>\n",
       "    <tr>\n",
       "      <th>15</th>\n",
       "      <td>17</td>\n",
       "      <td>0.945783</td>\n",
       "      <td>0.747664</td>\n",
       "      <td>0.198120</td>\n",
       "    </tr>\n",
       "    <tr>\n",
       "      <th>16</th>\n",
       "      <td>18</td>\n",
       "      <td>0.945783</td>\n",
       "      <td>0.747664</td>\n",
       "      <td>0.198120</td>\n",
       "    </tr>\n",
       "    <tr>\n",
       "      <th>17</th>\n",
       "      <td>19</td>\n",
       "      <td>0.945783</td>\n",
       "      <td>0.747664</td>\n",
       "      <td>0.198120</td>\n",
       "    </tr>\n",
       "    <tr>\n",
       "      <th>18</th>\n",
       "      <td>20</td>\n",
       "      <td>0.945783</td>\n",
       "      <td>0.747664</td>\n",
       "      <td>0.198120</td>\n",
       "    </tr>\n",
       "    <tr>\n",
       "      <th>19</th>\n",
       "      <td>21</td>\n",
       "      <td>0.945783</td>\n",
       "      <td>0.747664</td>\n",
       "      <td>0.198120</td>\n",
       "    </tr>\n",
       "    <tr>\n",
       "      <th>20</th>\n",
       "      <td>22</td>\n",
       "      <td>0.945783</td>\n",
       "      <td>0.747664</td>\n",
       "      <td>0.198120</td>\n",
       "    </tr>\n",
       "    <tr>\n",
       "      <th>21</th>\n",
       "      <td>23</td>\n",
       "      <td>0.945783</td>\n",
       "      <td>0.747664</td>\n",
       "      <td>0.198120</td>\n",
       "    </tr>\n",
       "    <tr>\n",
       "      <th>22</th>\n",
       "      <td>24</td>\n",
       "      <td>0.945783</td>\n",
       "      <td>0.747664</td>\n",
       "      <td>0.198120</td>\n",
       "    </tr>\n",
       "  </tbody>\n",
       "</table>\n",
       "</div>"
      ],
      "text/plain": [
       "    max_depth  train_accuracy  validate_accuracy  difference\n",
       "0           2        0.799197           0.761682    0.037515\n",
       "1           3        0.823293           0.785047    0.038246\n",
       "2           4        0.825301           0.785047    0.040254\n",
       "3           5        0.837349           0.757009    0.080340\n",
       "4           6        0.859438           0.766355    0.093083\n",
       "5           7        0.863454           0.761682    0.101772\n",
       "6           8        0.897590           0.757009    0.140581\n",
       "7           9        0.909639           0.761682    0.147956\n",
       "8          10        0.923695           0.766355    0.157340\n",
       "9          11        0.931727           0.761682    0.170045\n",
       "10         12        0.941767           0.747664    0.194104\n",
       "11         13        0.943775           0.757009    0.186766\n",
       "12         14        0.943775           0.757009    0.186766\n",
       "13         15        0.945783           0.747664    0.198120\n",
       "14         16        0.945783           0.747664    0.198120\n",
       "15         17        0.945783           0.747664    0.198120\n",
       "16         18        0.945783           0.747664    0.198120\n",
       "17         19        0.945783           0.747664    0.198120\n",
       "18         20        0.945783           0.747664    0.198120\n",
       "19         21        0.945783           0.747664    0.198120\n",
       "20         22        0.945783           0.747664    0.198120\n",
       "21         23        0.945783           0.747664    0.198120\n",
       "22         24        0.945783           0.747664    0.198120"
      ]
     },
     "execution_count": 129,
     "metadata": {},
     "output_type": "execute_result"
    }
   ],
   "source": [
    "metrics = []\n",
    "\n",
    "for i in range (2, 25):\n",
    "    tree = DecisionTreeClassifier(max_depth = i, random_state=123)\n",
    "    \n",
    "    # Fit the model\n",
    "    tree = tree.fit(X_train, y_train)\n",
    "    \n",
    "    in_sample_accuracy = tree.score(X_train, y_train)\n",
    "    \n",
    "    out_of_sample_accuracy = tree.score(X_validate, y_validate)\n",
    "    \n",
    "    output = {\n",
    "        'max_depth':i,\n",
    "        'train_accuracy': in_sample_accuracy,\n",
    "        'validate_accuracy': out_of_sample_accuracy\n",
    "    }\n",
    "    \n",
    "    metrics.append(output)\n",
    "    \n",
    "df = pd.DataFrame(metrics)\n",
    "df['difference'] = df.train_accuracy - df.validate_accuracy\n",
    "df"
   ]
  },
  {
   "cell_type": "code",
   "execution_count": 130,
   "id": "b56c2833",
   "metadata": {},
   "outputs": [
    {
     "data": {
      "text/html": [
       "<div>\n",
       "<style scoped>\n",
       "    .dataframe tbody tr th:only-of-type {\n",
       "        vertical-align: middle;\n",
       "    }\n",
       "\n",
       "    .dataframe tbody tr th {\n",
       "        vertical-align: top;\n",
       "    }\n",
       "\n",
       "    .dataframe thead th {\n",
       "        text-align: right;\n",
       "    }\n",
       "</style>\n",
       "<table border=\"1\" class=\"dataframe\">\n",
       "  <thead>\n",
       "    <tr style=\"text-align: right;\">\n",
       "      <th></th>\n",
       "      <th>max_depth</th>\n",
       "      <th>train_accuracy</th>\n",
       "      <th>validate_accuracy</th>\n",
       "      <th>difference</th>\n",
       "    </tr>\n",
       "  </thead>\n",
       "  <tbody>\n",
       "    <tr>\n",
       "      <th>1</th>\n",
       "      <td>3</td>\n",
       "      <td>0.823293</td>\n",
       "      <td>0.785047</td>\n",
       "      <td>0.038246</td>\n",
       "    </tr>\n",
       "    <tr>\n",
       "      <th>2</th>\n",
       "      <td>4</td>\n",
       "      <td>0.825301</td>\n",
       "      <td>0.785047</td>\n",
       "      <td>0.040254</td>\n",
       "    </tr>\n",
       "    <tr>\n",
       "      <th>4</th>\n",
       "      <td>6</td>\n",
       "      <td>0.859438</td>\n",
       "      <td>0.766355</td>\n",
       "      <td>0.093083</td>\n",
       "    </tr>\n",
       "    <tr>\n",
       "      <th>0</th>\n",
       "      <td>2</td>\n",
       "      <td>0.799197</td>\n",
       "      <td>0.761682</td>\n",
       "      <td>0.037515</td>\n",
       "    </tr>\n",
       "    <tr>\n",
       "      <th>3</th>\n",
       "      <td>5</td>\n",
       "      <td>0.837349</td>\n",
       "      <td>0.757009</td>\n",
       "      <td>0.080340</td>\n",
       "    </tr>\n",
       "  </tbody>\n",
       "</table>\n",
       "</div>"
      ],
      "text/plain": [
       "   max_depth  train_accuracy  validate_accuracy  difference\n",
       "1          3        0.823293           0.785047    0.038246\n",
       "2          4        0.825301           0.785047    0.040254\n",
       "4          6        0.859438           0.766355    0.093083\n",
       "0          2        0.799197           0.761682    0.037515\n",
       "3          5        0.837349           0.757009    0.080340"
      ]
     },
     "execution_count": 130,
     "metadata": {},
     "output_type": "execute_result"
    }
   ],
   "source": [
    "df[df.difference <= 0.10].sort_values(by=['validate_accuracy', 'difference'], ascending =[False,True])"
   ]
  },
  {
   "cell_type": "code",
   "execution_count": 16,
   "id": "22e9f741",
   "metadata": {},
   "outputs": [
    {
     "name": "stdout",
     "output_type": "stream",
     "text": [
      "<class 'pandas.core.frame.DataFrame'>\n",
      "Int64Index: 891 entries, 0 to 890\n",
      "Data columns (total 11 columns):\n",
      " #   Column                   Non-Null Count  Dtype  \n",
      "---  ------                   --------------  -----  \n",
      " 0   survived                 891 non-null    int64  \n",
      " 1   pclass                   891 non-null    int64  \n",
      " 2   sex                      891 non-null    object \n",
      " 3   sibsp                    891 non-null    int64  \n",
      " 4   parch                    891 non-null    int64  \n",
      " 5   fare                     891 non-null    float64\n",
      " 6   embark_town              891 non-null    object \n",
      " 7   alone                    891 non-null    int64  \n",
      " 8   sex_male                 891 non-null    uint8  \n",
      " 9   embark_town_Queenstown   891 non-null    uint8  \n",
      " 10  embark_town_Southampton  891 non-null    uint8  \n",
      "dtypes: float64(1), int64(5), object(2), uint8(3)\n",
      "memory usage: 65.3+ KB\n"
     ]
    }
   ],
   "source": [
    "df.info()"
   ]
  },
  {
   "cell_type": "code",
   "execution_count": 17,
   "id": "f00671a2",
   "metadata": {},
   "outputs": [
    {
     "data": {
      "text/plain": [
       "0    549\n",
       "1    342\n",
       "Name: survived, dtype: int64"
      ]
     },
     "execution_count": 17,
     "metadata": {},
     "output_type": "execute_result"
    }
   ],
   "source": [
    "df.survived.value_counts()"
   ]
  },
  {
   "cell_type": "code",
   "execution_count": 18,
   "id": "95812f5f",
   "metadata": {},
   "outputs": [
    {
     "data": {
      "text/html": [
       "<div>\n",
       "<style scoped>\n",
       "    .dataframe tbody tr th:only-of-type {\n",
       "        vertical-align: middle;\n",
       "    }\n",
       "\n",
       "    .dataframe tbody tr th {\n",
       "        vertical-align: top;\n",
       "    }\n",
       "\n",
       "    .dataframe thead th {\n",
       "        text-align: right;\n",
       "    }\n",
       "</style>\n",
       "<table border=\"1\" class=\"dataframe\">\n",
       "  <thead>\n",
       "    <tr style=\"text-align: right;\">\n",
       "      <th></th>\n",
       "      <th>survived</th>\n",
       "      <th>pclass</th>\n",
       "      <th>sex</th>\n",
       "      <th>sibsp</th>\n",
       "      <th>parch</th>\n",
       "      <th>fare</th>\n",
       "      <th>embark_town</th>\n",
       "      <th>alone</th>\n",
       "      <th>sex_male</th>\n",
       "      <th>embark_town_Queenstown</th>\n",
       "      <th>embark_town_Southampton</th>\n",
       "    </tr>\n",
       "  </thead>\n",
       "  <tbody>\n",
       "    <tr>\n",
       "      <th>0</th>\n",
       "      <td>0</td>\n",
       "      <td>3</td>\n",
       "      <td>male</td>\n",
       "      <td>1</td>\n",
       "      <td>0</td>\n",
       "      <td>7.2500</td>\n",
       "      <td>Southampton</td>\n",
       "      <td>0</td>\n",
       "      <td>1</td>\n",
       "      <td>0</td>\n",
       "      <td>1</td>\n",
       "    </tr>\n",
       "    <tr>\n",
       "      <th>1</th>\n",
       "      <td>1</td>\n",
       "      <td>1</td>\n",
       "      <td>female</td>\n",
       "      <td>1</td>\n",
       "      <td>0</td>\n",
       "      <td>71.2833</td>\n",
       "      <td>Cherbourg</td>\n",
       "      <td>0</td>\n",
       "      <td>0</td>\n",
       "      <td>0</td>\n",
       "      <td>0</td>\n",
       "    </tr>\n",
       "    <tr>\n",
       "      <th>2</th>\n",
       "      <td>1</td>\n",
       "      <td>3</td>\n",
       "      <td>female</td>\n",
       "      <td>0</td>\n",
       "      <td>0</td>\n",
       "      <td>7.9250</td>\n",
       "      <td>Southampton</td>\n",
       "      <td>1</td>\n",
       "      <td>0</td>\n",
       "      <td>0</td>\n",
       "      <td>1</td>\n",
       "    </tr>\n",
       "    <tr>\n",
       "      <th>3</th>\n",
       "      <td>1</td>\n",
       "      <td>1</td>\n",
       "      <td>female</td>\n",
       "      <td>1</td>\n",
       "      <td>0</td>\n",
       "      <td>53.1000</td>\n",
       "      <td>Southampton</td>\n",
       "      <td>0</td>\n",
       "      <td>0</td>\n",
       "      <td>0</td>\n",
       "      <td>1</td>\n",
       "    </tr>\n",
       "    <tr>\n",
       "      <th>4</th>\n",
       "      <td>0</td>\n",
       "      <td>3</td>\n",
       "      <td>male</td>\n",
       "      <td>0</td>\n",
       "      <td>0</td>\n",
       "      <td>8.0500</td>\n",
       "      <td>Southampton</td>\n",
       "      <td>1</td>\n",
       "      <td>1</td>\n",
       "      <td>0</td>\n",
       "      <td>1</td>\n",
       "    </tr>\n",
       "  </tbody>\n",
       "</table>\n",
       "</div>"
      ],
      "text/plain": [
       "   survived  pclass     sex  sibsp  parch     fare  embark_town  alone  \\\n",
       "0         0       3    male      1      0   7.2500  Southampton      0   \n",
       "1         1       1  female      1      0  71.2833    Cherbourg      0   \n",
       "2         1       3  female      0      0   7.9250  Southampton      1   \n",
       "3         1       1  female      1      0  53.1000  Southampton      0   \n",
       "4         0       3    male      0      0   8.0500  Southampton      1   \n",
       "\n",
       "   sex_male  embark_town_Queenstown  embark_town_Southampton  \n",
       "0         1                       0                        1  \n",
       "1         0                       0                        0  \n",
       "2         0                       0                        1  \n",
       "3         0                       0                        1  \n",
       "4         1                       0                        1  "
      ]
     },
     "execution_count": 18,
     "metadata": {},
     "output_type": "execute_result"
    }
   ],
   "source": [
    "df.head()"
   ]
  },
  {
   "cell_type": "code",
   "execution_count": 19,
   "id": "b0c17e26",
   "metadata": {},
   "outputs": [],
   "source": [
    "train_val, test = train_test_split(df,\n",
    "                                  train_size = 0.8,\n",
    "                                  random_state=123,\n",
    "                                  stratify=df.survived)"
   ]
  },
  {
   "cell_type": "code",
   "execution_count": 20,
   "id": "3eafe76d",
   "metadata": {},
   "outputs": [],
   "source": [
    "train, val = train_test_split(train_val,\n",
    "                                  train_size = 0.7,\n",
    "                                  random_state=123,\n",
    "                                  stratify=train_val.survived)"
   ]
  },
  {
   "cell_type": "code",
   "execution_count": 21,
   "id": "7cfc7014",
   "metadata": {},
   "outputs": [
    {
     "data": {
      "text/html": [
       "<div>\n",
       "<style scoped>\n",
       "    .dataframe tbody tr th:only-of-type {\n",
       "        vertical-align: middle;\n",
       "    }\n",
       "\n",
       "    .dataframe tbody tr th {\n",
       "        vertical-align: top;\n",
       "    }\n",
       "\n",
       "    .dataframe thead th {\n",
       "        text-align: right;\n",
       "    }\n",
       "</style>\n",
       "<table border=\"1\" class=\"dataframe\">\n",
       "  <thead>\n",
       "    <tr style=\"text-align: right;\">\n",
       "      <th></th>\n",
       "      <th>survived</th>\n",
       "      <th>pclass</th>\n",
       "      <th>sex</th>\n",
       "      <th>sibsp</th>\n",
       "      <th>parch</th>\n",
       "      <th>fare</th>\n",
       "      <th>embark_town</th>\n",
       "      <th>alone</th>\n",
       "      <th>sex_male</th>\n",
       "      <th>embark_town_Queenstown</th>\n",
       "      <th>embark_town_Southampton</th>\n",
       "    </tr>\n",
       "  </thead>\n",
       "  <tbody>\n",
       "    <tr>\n",
       "      <th>583</th>\n",
       "      <td>0</td>\n",
       "      <td>1</td>\n",
       "      <td>male</td>\n",
       "      <td>0</td>\n",
       "      <td>0</td>\n",
       "      <td>40.1250</td>\n",
       "      <td>Cherbourg</td>\n",
       "      <td>1</td>\n",
       "      <td>1</td>\n",
       "      <td>0</td>\n",
       "      <td>0</td>\n",
       "    </tr>\n",
       "    <tr>\n",
       "      <th>165</th>\n",
       "      <td>1</td>\n",
       "      <td>3</td>\n",
       "      <td>male</td>\n",
       "      <td>0</td>\n",
       "      <td>2</td>\n",
       "      <td>20.5250</td>\n",
       "      <td>Southampton</td>\n",
       "      <td>0</td>\n",
       "      <td>1</td>\n",
       "      <td>0</td>\n",
       "      <td>1</td>\n",
       "    </tr>\n",
       "    <tr>\n",
       "      <th>50</th>\n",
       "      <td>0</td>\n",
       "      <td>3</td>\n",
       "      <td>male</td>\n",
       "      <td>4</td>\n",
       "      <td>1</td>\n",
       "      <td>39.6875</td>\n",
       "      <td>Southampton</td>\n",
       "      <td>0</td>\n",
       "      <td>1</td>\n",
       "      <td>0</td>\n",
       "      <td>1</td>\n",
       "    </tr>\n",
       "    <tr>\n",
       "      <th>259</th>\n",
       "      <td>1</td>\n",
       "      <td>2</td>\n",
       "      <td>female</td>\n",
       "      <td>0</td>\n",
       "      <td>1</td>\n",
       "      <td>26.0000</td>\n",
       "      <td>Southampton</td>\n",
       "      <td>0</td>\n",
       "      <td>0</td>\n",
       "      <td>0</td>\n",
       "      <td>1</td>\n",
       "    </tr>\n",
       "    <tr>\n",
       "      <th>306</th>\n",
       "      <td>1</td>\n",
       "      <td>1</td>\n",
       "      <td>female</td>\n",
       "      <td>0</td>\n",
       "      <td>0</td>\n",
       "      <td>110.8833</td>\n",
       "      <td>Cherbourg</td>\n",
       "      <td>1</td>\n",
       "      <td>0</td>\n",
       "      <td>0</td>\n",
       "      <td>0</td>\n",
       "    </tr>\n",
       "  </tbody>\n",
       "</table>\n",
       "</div>"
      ],
      "text/plain": [
       "     survived  pclass     sex  sibsp  parch      fare  embark_town  alone  \\\n",
       "583         0       1    male      0      0   40.1250    Cherbourg      1   \n",
       "165         1       3    male      0      2   20.5250  Southampton      0   \n",
       "50          0       3    male      4      1   39.6875  Southampton      0   \n",
       "259         1       2  female      0      1   26.0000  Southampton      0   \n",
       "306         1       1  female      0      0  110.8833    Cherbourg      1   \n",
       "\n",
       "     sex_male  embark_town_Queenstown  embark_town_Southampton  \n",
       "583         1                       0                        0  \n",
       "165         1                       0                        1  \n",
       "50          1                       0                        1  \n",
       "259         0                       0                        1  \n",
       "306         0                       0                        0  "
      ]
     },
     "execution_count": 21,
     "metadata": {},
     "output_type": "execute_result"
    }
   ],
   "source": [
    "train.head()"
   ]
  },
  {
   "cell_type": "code",
   "execution_count": 22,
   "id": "f2da87b1",
   "metadata": {},
   "outputs": [],
   "source": [
    "x_train = train.drop(columns=['survived'])\n",
    "\n",
    "y_train = train[['survived']]"
   ]
  },
  {
   "cell_type": "code",
   "execution_count": 23,
   "id": "666624ba",
   "metadata": {},
   "outputs": [
    {
     "data": {
      "text/plain": [
       "pandas.core.frame.DataFrame"
      ]
     },
     "execution_count": 23,
     "metadata": {},
     "output_type": "execute_result"
    }
   ],
   "source": [
    "type(y_train)"
   ]
  },
  {
   "cell_type": "code",
   "execution_count": 24,
   "id": "3c4bd9d8",
   "metadata": {},
   "outputs": [
    {
     "data": {
      "text/plain": [
       "pandas.core.series.Series"
      ]
     },
     "execution_count": 24,
     "metadata": {},
     "output_type": "execute_result"
    }
   ],
   "source": [
    "type(train['survived'])"
   ]
  },
  {
   "cell_type": "code",
   "execution_count": 32,
   "id": "e2e4dd23",
   "metadata": {},
   "outputs": [
    {
     "data": {
      "text/plain": [
       "0    307\n",
       "1    191\n",
       "Name: survived, dtype: int64"
      ]
     },
     "execution_count": 32,
     "metadata": {},
     "output_type": "execute_result"
    }
   ],
   "source": [
    "y_train.survived.value_counts()"
   ]
  },
  {
   "cell_type": "code",
   "execution_count": 28,
   "id": "066338a9",
   "metadata": {},
   "outputs": [
    {
     "name": "stderr",
     "output_type": "stream",
     "text": [
      "/var/folders/dy/6l70n7994h596yst0fdjbly40000gn/T/ipykernel_39855/1308718281.py:1: SettingWithCopyWarning: \n",
      "A value is trying to be set on a copy of a slice from a DataFrame.\n",
      "Try using .loc[row_indexer,col_indexer] = value instead\n",
      "\n",
      "See the caveats in the documentation: https://pandas.pydata.org/pandas-docs/stable/user_guide/indexing.html#returning-a-view-versus-a-copy\n",
      "  y_train['baseline'] = 0\n"
     ]
    }
   ],
   "source": [
    "y_train['baseline'] = 0"
   ]
  },
  {
   "cell_type": "code",
   "execution_count": 29,
   "id": "a1dd2513",
   "metadata": {},
   "outputs": [],
   "source": [
    "baseline_score = accuracy_score(y_train.survived, y_train.baseline)"
   ]
  },
  {
   "cell_type": "code",
   "execution_count": 30,
   "id": "96120f99",
   "metadata": {},
   "outputs": [
    {
     "data": {
      "text/plain": [
       "0.6164658634538153"
      ]
     },
     "execution_count": 30,
     "metadata": {},
     "output_type": "execute_result"
    }
   ],
   "source": [
    "baseline_score"
   ]
  },
  {
   "cell_type": "markdown",
   "id": "8ae5f81f",
   "metadata": {},
   "source": [
    "## Model creation\n",
    "step one: Create the thing step two: fit the thing step three: use the thing"
   ]
  },
  {
   "cell_type": "code",
   "execution_count": 33,
   "id": "d967e47e",
   "metadata": {},
   "outputs": [],
   "source": [
    "#create the thing"
   ]
  },
  {
   "cell_type": "code",
   "execution_count": 34,
   "id": "fb271a89",
   "metadata": {},
   "outputs": [],
   "source": [
    "selected_feats = ['sex_male', 'pclass']"
   ]
  },
  {
   "cell_type": "code",
   "execution_count": 35,
   "id": "9fb57dd0",
   "metadata": {},
   "outputs": [],
   "source": [
    "# create the classifier object\n",
    "\n",
    "clf = RandomForestClassifier(random_state = 123)"
   ]
  },
  {
   "cell_type": "code",
   "execution_count": 38,
   "id": "9a0f4e33",
   "metadata": {},
   "outputs": [
    {
     "data": {
      "text/plain": [
       "['sex_male', 'pclass']"
      ]
     },
     "execution_count": 38,
     "metadata": {},
     "output_type": "execute_result"
    }
   ],
   "source": [
    "# fit the thing:\n",
    "# invoke the fit method, don't assign it to anything\n",
    "# this will train our model\n",
    "\n",
    "selected_feats"
   ]
  },
  {
   "cell_type": "code",
   "execution_count": 39,
   "id": "da783316",
   "metadata": {},
   "outputs": [
    {
     "data": {
      "text/plain": [
       "RandomForestClassifier(random_state=123)"
      ]
     },
     "execution_count": 39,
     "metadata": {},
     "output_type": "execute_result"
    }
   ],
   "source": [
    "#use the thing\n",
    "\n",
    "clf.fit(x_train[selected_feats], y_train.survived)"
   ]
  },
  {
   "cell_type": "code",
   "execution_count": 40,
   "id": "f9d73191",
   "metadata": {},
   "outputs": [
    {
     "name": "stderr",
     "output_type": "stream",
     "text": [
      "/var/folders/dy/6l70n7994h596yst0fdjbly40000gn/T/ipykernel_39855/3312557217.py:1: SettingWithCopyWarning: \n",
      "A value is trying to be set on a copy of a slice from a DataFrame.\n",
      "Try using .loc[row_indexer,col_indexer] = value instead\n",
      "\n",
      "See the caveats in the documentation: https://pandas.pydata.org/pandas-docs/stable/user_guide/indexing.html#returning-a-view-versus-a-copy\n",
      "  y_train['y_pred'] = clf.predict(x_train[selected_feats])\n"
     ]
    }
   ],
   "source": [
    "y_train['y_pred'] = clf.predict(x_train[selected_feats])"
   ]
  },
  {
   "cell_type": "code",
   "execution_count": 41,
   "id": "52ffdf5a",
   "metadata": {},
   "outputs": [
    {
     "data": {
      "text/html": [
       "<div>\n",
       "<style scoped>\n",
       "    .dataframe tbody tr th:only-of-type {\n",
       "        vertical-align: middle;\n",
       "    }\n",
       "\n",
       "    .dataframe tbody tr th {\n",
       "        vertical-align: top;\n",
       "    }\n",
       "\n",
       "    .dataframe thead th {\n",
       "        text-align: right;\n",
       "    }\n",
       "</style>\n",
       "<table border=\"1\" class=\"dataframe\">\n",
       "  <thead>\n",
       "    <tr style=\"text-align: right;\">\n",
       "      <th></th>\n",
       "      <th>survived</th>\n",
       "      <th>baseline</th>\n",
       "      <th>y_pred</th>\n",
       "    </tr>\n",
       "  </thead>\n",
       "  <tbody>\n",
       "    <tr>\n",
       "      <th>583</th>\n",
       "      <td>0</td>\n",
       "      <td>0</td>\n",
       "      <td>0</td>\n",
       "    </tr>\n",
       "    <tr>\n",
       "      <th>165</th>\n",
       "      <td>1</td>\n",
       "      <td>0</td>\n",
       "      <td>0</td>\n",
       "    </tr>\n",
       "    <tr>\n",
       "      <th>50</th>\n",
       "      <td>0</td>\n",
       "      <td>0</td>\n",
       "      <td>0</td>\n",
       "    </tr>\n",
       "    <tr>\n",
       "      <th>259</th>\n",
       "      <td>1</td>\n",
       "      <td>0</td>\n",
       "      <td>1</td>\n",
       "    </tr>\n",
       "    <tr>\n",
       "      <th>306</th>\n",
       "      <td>1</td>\n",
       "      <td>0</td>\n",
       "      <td>1</td>\n",
       "    </tr>\n",
       "  </tbody>\n",
       "</table>\n",
       "</div>"
      ],
      "text/plain": [
       "     survived  baseline  y_pred\n",
       "583         0         0       0\n",
       "165         1         0       0\n",
       "50          0         0       0\n",
       "259         1         0       1\n",
       "306         1         0       1"
      ]
     },
     "execution_count": 41,
     "metadata": {},
     "output_type": "execute_result"
    }
   ],
   "source": [
    "y_train.head()"
   ]
  },
  {
   "cell_type": "code",
   "execution_count": null,
   "id": "ef6ded11",
   "metadata": {},
   "outputs": [],
   "source": []
  }
 ],
 "metadata": {
  "kernelspec": {
   "display_name": "Python 3 (ipykernel)",
   "language": "python",
   "name": "python3"
  },
  "language_info": {
   "codemirror_mode": {
    "name": "ipython",
    "version": 3
   },
   "file_extension": ".py",
   "mimetype": "text/x-python",
   "name": "python",
   "nbconvert_exporter": "python",
   "pygments_lexer": "ipython3",
   "version": "3.9.7"
  }
 },
 "nbformat": 4,
 "nbformat_minor": 5
}
